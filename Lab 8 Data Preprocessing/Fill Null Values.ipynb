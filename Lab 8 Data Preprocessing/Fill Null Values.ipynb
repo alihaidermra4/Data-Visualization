{
 "cells": [
  {
   "cell_type": "markdown",
   "metadata": {},
   "source": [
    "Pandas is one of those packages and makes importing and analyzing data much easier. Sometimes csv file has null values, which are later displayed as NaN in Data Frame. Just like the pandas dropna() method manages and remove Null values from a data frame, fillna() manages and let the user replace NaN values with some value of their own. "
   ]
  },
  {
   "cell_type": "markdown",
   "metadata": {},
   "source": [
    "https://www.w3schools.com/python/pandas/ref_df_fillna.asp\n",
    "\n",
    "https://www.geeksforgeeks.org/python-pandas-dataframe-fillna-to-replace-null-values-in-dataframe/"
   ]
  },
  {
   "cell_type": "code",
   "execution_count": 1,
   "metadata": {},
   "outputs": [
    {
     "name": "stdout",
     "output_type": "stream",
     "text": [
      "Original DataFrame:\n",
      "      A    B\n",
      "0  1.0  NaN\n",
      "1  NaN  2.0\n",
      "2  NaN  3.0\n",
      "3  4.0  NaN\n",
      "4  5.0  5.0\n",
      "\n",
      "Backfill:\n",
      "      A    B\n",
      "0  1.0  2.0\n",
      "1  4.0  2.0\n",
      "2  4.0  3.0\n",
      "3  4.0  5.0\n",
      "4  5.0  5.0\n",
      "\n",
      "Forward Fill:\n",
      "      A    B\n",
      "0  1.0  NaN\n",
      "1  1.0  2.0\n",
      "2  1.0  3.0\n",
      "3  4.0  3.0\n",
      "4  5.0  5.0\n"
     ]
    },
    {
     "name": "stderr",
     "output_type": "stream",
     "text": [
      "C:\\Users\\Ali Haider\\AppData\\Local\\Temp\\ipykernel_4872\\1725380911.py:9: FutureWarning: DataFrame.fillna with 'method' is deprecated and will raise in a future version. Use obj.ffill() or obj.bfill() instead.\n",
      "  df_bfill = df.fillna(method='bfill')  # Uses next valid value\n",
      "C:\\Users\\Ali Haider\\AppData\\Local\\Temp\\ipykernel_4872\\1725380911.py:10: FutureWarning: DataFrame.fillna with 'method' is deprecated and will raise in a future version. Use obj.ffill() or obj.bfill() instead.\n",
      "  df_ffill = df.fillna(method='ffill')  # Uses previous valid value\n"
     ]
    }
   ],
   "source": [
    "import pandas as pd\n",
    "import numpy as np\n",
    "\n",
    "# Sample DataFrame with NaN values\n",
    "data = {'A': [1, np.nan, np.nan, 4, 5], 'B': [np.nan, 2, 3, np.nan, 5]}\n",
    "df = pd.DataFrame(data)\n",
    "\n",
    "# Apply different fill methods\n",
    "df_bfill = df.fillna(method='bfill')  # Uses next valid value\n",
    "df_ffill = df.fillna(method='ffill')  # Uses previous valid value\n",
    "\n",
    "print(\"Original DataFrame:\\n\", df)\n",
    "print(\"\\nBackfill:\\n\", df_bfill)\n",
    "print(\"\\nForward Fill:\\n\", df_ffill)\n"
   ]
  },
  {
   "cell_type": "code",
   "execution_count": null,
   "metadata": {},
   "outputs": [],
   "source": [
    "# Sample DataFrame with float values\n",
    "df = pd.DataFrame({'A': [1.0, 2.0, np.nan, 4.0], 'B': [10.5, 20.3, 30.1, 40.2]})\n",
    "\n",
    "# Convert to numeric with downcast\n",
    "df['A'] = pd.to_numeric(df['A'], downcast='integer')  # Converts to int if possible\n",
    "df['B'] = pd.to_numeric(df['B'], downcast='float')    # Converts to smaller float type\n",
    "\n",
    "print(df.dtypes)\n"
   ]
  }
 ],
 "metadata": {
  "kernelspec": {
   "display_name": "base",
   "language": "python",
   "name": "python3"
  },
  "language_info": {
   "codemirror_mode": {
    "name": "ipython",
    "version": 3
   },
   "file_extension": ".py",
   "mimetype": "text/x-python",
   "name": "python",
   "nbconvert_exporter": "python",
   "pygments_lexer": "ipython3",
   "version": "3.12.4"
  }
 },
 "nbformat": 4,
 "nbformat_minor": 2
}
