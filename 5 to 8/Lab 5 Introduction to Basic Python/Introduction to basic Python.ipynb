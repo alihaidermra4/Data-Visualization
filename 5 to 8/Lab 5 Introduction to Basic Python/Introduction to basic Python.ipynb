{
 "cells": [
  {
   "cell_type": "markdown",
   "metadata": {},
   "source": [
    "# Why Python?\n",
    "\n",
    "Python is the most popular programming language. It was created by Guido van Rossum, and released in 1991. Python is used for machine learning, data science as well as software development. It offers a wide variety of libraries related to machine learning and data science.\n",
    "\n",
    "Python is a mature programming language, it also has excellent properties for newbie programmers, making it ideal for people who have never programmed before.\n",
    "\n",
    "Some of the most remarkable properties of Python are as follow;\n",
    "1. Easy to read code\n",
    "2. Suppression of non-mandatory delimiters\n",
    "3. Python uses indentation to define scope\n",
    "4. Dynamic typed, and dynamic memory usage (Both memory allocation and garbage collection).\n",
    "5. Python is an interpreted language\n",
    "6. Python can be run on interactive consoles (Jupyter notebook, IPython) \n",
    "7. Python works on different platforms (Windows, Mac, Linux, Raspberry Pi, etc)\n",
    "8. Python has a simple syntax similar to the English language and allows developers to write programs with fewer lines."
   ]
  },
  {
   "cell_type": "code",
   "execution_count": null,
   "metadata": {},
   "outputs": [],
   "source": [
    "# Assigning different type of value to a variable in Python, the variable simply starts referring \n",
    "# to the new value with its updated data type."
   ]
  },
  {
   "cell_type": "markdown",
   "metadata": {},
   "source": [
    "## Writing the First Python Program"
   ]
  },
  {
   "cell_type": "code",
   "execution_count": 1,
   "metadata": {},
   "outputs": [
    {
     "name": "stdout",
     "output_type": "stream",
     "text": [
      "Hello, World!\n"
     ]
    }
   ],
   "source": [
    "print(\"Hello, World!\")"
   ]
  },
  {
   "cell_type": "markdown",
   "metadata": {},
   "source": [
    "## Creating Variables\n",
    "#### Variables are containers for storing data values.\n",
    "#### A variable is created the moment you first assign a value to it"
   ]
  },
  {
   "cell_type": "code",
   "execution_count": 2,
   "metadata": {},
   "outputs": [
    {
     "name": "stdout",
     "output_type": "stream",
     "text": [
      "Integer Variable:  100123456789\n",
      "String Variable Pakistan\n"
     ]
    }
   ],
   "source": [
    "x = 100123456789\n",
    "y = \"Pakistan\"\n",
    "print(\"Integer Variable: \", x)\n",
    "print(\"String Variable\", y)\n",
    "#print(type(x))"
   ]
  },
  {
   "cell_type": "markdown",
   "metadata": {},
   "source": [
    "#### Variables do not need to be declared with any particular type and can even change type after they have been set."
   ]
  },
  {
   "cell_type": "code",
   "execution_count": null,
   "metadata": {},
   "outputs": [],
   "source": [
    "x = 10 # Here x is of type int\n",
    "x = \"Converted to STring\" # Here, the type of x is changed to string\n",
    "print(x)"
   ]
  },
  {
   "cell_type": "markdown",
   "metadata": {},
   "source": [
    "## Variable Name\n",
    "Variable name must start with a letter or the underscore character\n",
    "\n",
    "Variable name cannot start with a number\n",
    "\n",
    "Variable name can only contain alpha-numeric characters and underscores (A-z, 0-9, and _ )\n",
    "\n",
    "Variable names are case-sensitive"
   ]
  },
  {
   "cell_type": "code",
   "execution_count": 3,
   "metadata": {},
   "outputs": [],
   "source": [
    "#Legal variable names:\n",
    "myvar = \"John\"\n",
    "my_var = \"John\"\n",
    "_my_var = \"John\"\n",
    "myVar = \"John\"\n",
    "MYVAR = \"John\"\n",
    "myvar2 = \"John\"\n",
    "\n",
    "#Illegal variable names:\n",
    "#2myvar = \"John\" \n",
    "#my-var = \"John\"\n",
    "#my var = \"John\""
   ]
  },
  {
   "cell_type": "code",
   "execution_count": 4,
   "metadata": {},
   "outputs": [
    {
     "data": {
      "text/plain": [
       "'John'"
      ]
     },
     "execution_count": 4,
     "metadata": {},
     "output_type": "execute_result"
    }
   ],
   "source": [
    "_my_var"
   ]
  },
  {
   "cell_type": "markdown",
   "metadata": {},
   "source": [
    "## Python Built-in Data Types\n",
    "Variables store data of different types\n",
    "\n",
    "Python has the following built-in data types, in these categories:\n",
    "\n",
    "1. Text Type:-----  str\n",
    "2. Numeric Types:-----\tint, float, complex\n",
    "3. Sequence Types:-----\tlist, tuple, range\n",
    "4. Mapping Type:-----\tdict\n",
    "5. Set Types:-----\tset, frozenset\n",
    "6. Boolean Type:-----\tbool\n",
    "7. Binary Types:-----\tbytes, bytearray, memoryview"
   ]
  },
  {
   "cell_type": "code",
   "execution_count": null,
   "metadata": {},
   "outputs": [],
   "source": [
    "# Mutability: Allowing you to add and remove elements after creation.\n",
    "# Uniqueness: Storing unique elements. Duplicate elements are automatically eliminated.\n",
    "# Ordering: The elements are stored in any particular sequence. Can use Indexing to access individual element\n",
    "# Keyvalue paired: Store data as key-value pairs. "
   ]
  },
  {
   "cell_type": "code",
   "execution_count": 7,
   "metadata": {},
   "outputs": [
    {
     "name": "stdout",
     "output_type": "stream",
     "text": [
      "['apple', 'banana', 'cherry', 9]\n"
     ]
    }
   ],
   "source": [
    "x_str = \"Hello World\"\n",
    "x_int = 20\n",
    "x_flt = 20.5\n",
    "x_com = 3+1j\n",
    "x_list = [\"apple\", \"banana\", \"cherry\", 9]\n",
    "x_tpl = (\"apple\", \"banana\", \"cherry\")\n",
    "x_range = range(3,6) #An in-built function. It returns a sequence of numbers.\n",
    "#range(start, stop, step)\n",
    "#start: Optional parameter.  Starting point of sequence. By default, it’s zero.\n",
    "#stop:  Mandatory parameter. Stopping point of the sequence, Sequence stops just before the given number.\n",
    "#step:  Optional parameter.  The incrementation on each iteration. By default, the value is one.\n",
    "        \n",
    "x_dic = {\"name\" : \"John\", \"age\" : 36}\n",
    "x_set = {\"apple\", \"banana\", \"cherry\"}\n",
    "x_fset = frozenset({\"apple\", \"cherry\", \"banana\"}) #is an immutable version of a Python set object\n",
    "x_bol = True\n",
    "\n",
    "#print(type(x_range))\n",
    "print(x_list)"
   ]
  },
  {
   "cell_type": "code",
   "execution_count": 8,
   "metadata": {},
   "outputs": [
    {
     "name": "stdout",
     "output_type": "stream",
     "text": [
      "apple\n",
      "banana\n",
      "cherry\n",
      "9\n"
     ]
    }
   ],
   "source": [
    "#Printing Set/ frozen set values\n",
    "for x_val in x_list:\n",
    "    print(x_val)\n"
   ]
  },
  {
   "cell_type": "code",
   "execution_count": 9,
   "metadata": {},
   "outputs": [
    {
     "name": "stdout",
     "output_type": "stream",
     "text": [
      "name : John\n",
      "age : 36\n"
     ]
    }
   ],
   "source": [
    "#Printing dictionary values\n",
    "for index, val in x_dic.items():\n",
    "    print(index, \":\", val)"
   ]
  },
  {
   "cell_type": "code",
   "execution_count": 10,
   "metadata": {},
   "outputs": [
    {
     "data": {
      "text/plain": [
       "frozenset({'apple', 'banana', 'cherry'})"
      ]
     },
     "execution_count": 10,
     "metadata": {},
     "output_type": "execute_result"
    }
   ],
   "source": [
    "x_fset"
   ]
  },
  {
   "cell_type": "code",
   "execution_count": 11,
   "metadata": {},
   "outputs": [
    {
     "data": {
      "text/plain": [
       "'Peshawar'"
      ]
     },
     "execution_count": 11,
     "metadata": {},
     "output_type": "execute_result"
    }
   ],
   "source": [
    "## Tuple acts as key for value in dictionary\n",
    "my_dict = {x_tpl:\"Peshawar\"}\n",
    "my_dict[x_tpl]"
   ]
  },
  {
   "cell_type": "code",
   "execution_count": 12,
   "metadata": {},
   "outputs": [],
   "source": [
    "x_list = [\"apple\", \"banana\", \"cherry\", 9]\n",
    "x_list.append(\"Mango\")"
   ]
  },
  {
   "cell_type": "code",
   "execution_count": 13,
   "metadata": {},
   "outputs": [
    {
     "name": "stdout",
     "output_type": "stream",
     "text": [
      "['apple', 'banana', 'cherry', 9, 'Mango']\n"
     ]
    }
   ],
   "source": [
    "print(x_list)"
   ]
  },
  {
   "cell_type": "code",
   "execution_count": 15,
   "metadata": {},
   "outputs": [],
   "source": [
    "## Frozen set acts as key for value in dictionary\n",
    "myd = {x_fset: 989}"
   ]
  },
  {
   "cell_type": "code",
   "execution_count": 16,
   "metadata": {},
   "outputs": [
    {
     "data": {
      "text/plain": [
       "{frozenset({'apple', 'banana', 'cherry'}): 989}"
      ]
     },
     "execution_count": 16,
     "metadata": {},
     "output_type": "execute_result"
    }
   ],
   "source": [
    "myd"
   ]
  },
  {
   "cell_type": "code",
   "execution_count": 17,
   "metadata": {},
   "outputs": [
    {
     "name": "stdout",
     "output_type": "stream",
     "text": [
      "{1, 3}\n",
      "{1, 2, 3}\n",
      "{1, 2, 3, 4}\n",
      "{1, 2, 3, 4, 5, 6, 8}\n"
     ]
    }
   ],
   "source": [
    "# initialize my_set\n",
    "my_set = {1, 3}\n",
    "print(my_set)\n",
    "\n",
    "#print(my_set[0])  # TypeError: 'set' object does not support indexing\n",
    "\n",
    "my_set.add(2)\n",
    "print(my_set)\n",
    "\n",
    "# add multiple elements\n",
    "# Output: {1, 2, 3, 4}\n",
    "my_set.update([2, 3, 4])\n",
    "print(my_set)\n",
    "\n",
    "# add list and set\n",
    "# Output: {1, 2, 3, 4, 5, 6, 8}\n",
    "my_set.update([4, 5], {1, 6, 8})\n",
    "print(my_set)"
   ]
  },
  {
   "cell_type": "code",
   "execution_count": 18,
   "metadata": {},
   "outputs": [
    {
     "data": {
      "text/plain": [
       "{7, 109}"
      ]
     },
     "execution_count": 18,
     "metadata": {},
     "output_type": "execute_result"
    }
   ],
   "source": [
    "mset = {109, 7}\n",
    "mset"
   ]
  },
  {
   "cell_type": "code",
   "execution_count": 19,
   "metadata": {},
   "outputs": [
    {
     "name": "stdout",
     "output_type": "stream",
     "text": [
      "{1, 3, 4, 5, 6}\n",
      "{1, 3, 5, 6}\n",
      "{1, 3, 5}\n",
      "{1, 3, 5}\n"
     ]
    }
   ],
   "source": [
    "# initialize my_set\n",
    "my_set = {1, 3, 4, 5, 6}\n",
    "print(my_set)\n",
    "\n",
    "# discard an element\n",
    "my_set.discard(4)\n",
    "print(my_set)\n",
    "\n",
    "# remove an element\n",
    "my_set.remove(6)\n",
    "print(my_set)\n",
    "\n",
    "# discard an element does not throw an error, if element is not present in a set \n",
    "my_set.discard(2)\n",
    "print(my_set)\n",
    "\n",
    "# remove an element throws an error, if element is not present in a set \n",
    "#my_set.remove(2)\n"
   ]
  },
  {
   "cell_type": "markdown",
   "metadata": {},
   "source": [
    "## Setting the Specific Data Type or Python Casting\n",
    "\n",
    "    Casting in python is done using constructor functions:\n",
    "\n",
    "    int() - constructs an integer number from an integer literal, a float by rounding to the whole part in a number, a string providing the string represents a valid number\n",
    "\n",
    "    float() - constructs a float number from an integer literal, a float literal or a string literal providing the string represents a valid number.\n",
    "\n",
    "    str() - constructs a string from a wide variety of data types, including strings, integer literals and float literals"
   ]
  },
  {
   "cell_type": "code",
   "execution_count": 23,
   "metadata": {},
   "outputs": [],
   "source": [
    "x_str = str(123)\n",
    "x_int = int(100.5)\n",
    "x_flt = float(1007)\n",
    "x_comp = complex(2j)\n",
    "x_list = list((\"apple\", \"banana\", \"cherry\"))\n",
    "x_tpl = tuple([\"apple\", \"banana\", \"cherry\"])\n",
    "x_dic = dict(name=\"Ali\", age=40)\n",
    "x_set = set((\"apple\", \"banana\", \"cherry\"))\n",
    "x_fset = frozenset((\"apple\", \"banana\", \"cherry\"))\n",
    "x_bol = bool(15)\n",
    "x_byt = bytes('2553', 'utf-8')\n",
    "x_byt_arr = bytearray('15', 'utf-8')\n",
    "x_mem = memoryview(bytearray(15))"
   ]
  },
  {
   "cell_type": "code",
   "execution_count": 24,
   "metadata": {},
   "outputs": [
    {
     "data": {
      "text/plain": [
       "1007.0"
      ]
     },
     "execution_count": 24,
     "metadata": {},
     "output_type": "execute_result"
    }
   ],
   "source": [
    "x_flt"
   ]
  },
  {
   "cell_type": "code",
   "execution_count": 25,
   "metadata": {},
   "outputs": [
    {
     "name": "stdout",
     "output_type": "stream",
     "text": [
      "Before update: bytearray(b'XYZ')\n",
      "After update: bytearray(b'XYJ')\n"
     ]
    }
   ],
   "source": [
    "# Buffer protocol provides a way to access the internal data of an object. \n",
    "# This internal data is a memory array or a buffer. \n",
    "# It allows one object to expose its internal data (buffers) and the other to access those buffers \n",
    "# without intermediate copying. \n",
    "# Buffer protocol is only accessible to us at the C-API level and not using our normal codebase. \n",
    "# So, to expose the same protocol to a normal Python codebase, memory views are present.\n",
    "\n",
    "# Python program to illustrate\n",
    "# Modifying internal data using memory view \n",
    "# random bytearray\n",
    "byte_array = bytearray('XYZ', 'utf-8')\n",
    "print('Before update:', byte_array)\n",
    " \n",
    "mem_view = memoryview(byte_array)\n",
    " \n",
    "#Update 2nd index of mem_view to J, 74 is an ASCII code for letter \"J\"\n",
    "mem_view[2] = 74\n",
    "print('After update:', byte_array)"
   ]
  },
  {
   "cell_type": "code",
   "execution_count": null,
   "metadata": {},
   "outputs": [],
   "source": []
  },
  {
   "cell_type": "code",
   "execution_count": 27,
   "metadata": {},
   "outputs": [
    {
     "name": "stdout",
     "output_type": "stream",
     "text": [
      "12\n"
     ]
    }
   ],
   "source": [
    "x = int('20009934930430843')   # x will be 20\n",
    "y = int(5.8) # y will be 5\n",
    "z = int(\"12\") # z will be 12\n",
    "#w = int(\"13d\") # Invalid literal \n",
    "print(z)"
   ]
  },
  {
   "cell_type": "code",
   "execution_count": null,
   "metadata": {},
   "outputs": [],
   "source": [
    "x = float(30)     # x will be 30.0\n",
    "y = float(4.5)   # y will be 4.5\n",
    "z = float(\"456\")   # z will be 456.0\n",
    "w = float(\"5.6\") # w will be 5.6\n",
    "#x_in = float(\"5.6c\") # Invalid literal\n",
    "print(w)"
   ]
  },
  {
   "cell_type": "code",
   "execution_count": 32,
   "metadata": {},
   "outputs": [
    {
     "data": {
      "text/plain": [
       "'e'"
      ]
     },
     "execution_count": 32,
     "metadata": {},
     "output_type": "execute_result"
    }
   ],
   "source": [
    "x = str({'name':'Ali', 'age':40}) # x will be 'Values are 1, 2, 4..'\n",
    "y = str(56)    # y will be '56'\n",
    "z = str(20.0)  # z will be '20.0'\n",
    "x[5]"
   ]
  },
  {
   "cell_type": "code",
   "execution_count": 33,
   "metadata": {},
   "outputs": [
    {
     "name": "stdout",
     "output_type": "stream",
     "text": [
      "202020\n",
      "60\n"
     ]
    }
   ],
   "source": [
    "value = '20'\n",
    "prod_str = value * 3\n",
    "prod_int = int(value) * 3\n",
    "\n",
    "print(prod_str)\n",
    "print(prod_int)"
   ]
  },
  {
   "cell_type": "markdown",
   "metadata": {},
   "source": [
    "## Python Booleans\n",
    "\n",
    "Booleans represent one of two values: True or False."
   ]
  },
  {
   "cell_type": "code",
   "execution_count": null,
   "metadata": {},
   "outputs": [],
   "source": [
    "x = True\n",
    "y = False\n",
    "\n",
    "print(x)\n",
    "print(y)"
   ]
  },
  {
   "cell_type": "code",
   "execution_count": null,
   "metadata": {},
   "outputs": [],
   "source": [
    "if x:\n",
    "    print(\"X is True\")\n",
    "else:\n",
    "    print(\"X is False\")"
   ]
  },
  {
   "cell_type": "code",
   "execution_count": null,
   "metadata": {},
   "outputs": [],
   "source": [
    "print(10 > 9)\n",
    "print(10 == 9)\n",
    "print(10 < 9)"
   ]
  },
  {
   "cell_type": "code",
   "execution_count": null,
   "metadata": {},
   "outputs": [],
   "source": []
  },
  {
   "cell_type": "code",
   "execution_count": 34,
   "metadata": {},
   "outputs": [
    {
     "name": "stdout",
     "output_type": "stream",
     "text": [
      "False\n",
      "True\n",
      "True\n"
     ]
    }
   ],
   "source": [
    "print(bool(0))\n",
    "print(bool(1))\n",
    "print(bool(-1))"
   ]
  },
  {
   "cell_type": "code",
   "execution_count": 35,
   "metadata": {},
   "outputs": [
    {
     "name": "stdout",
     "output_type": "stream",
     "text": [
      "True\n",
      "False\n",
      "False\n",
      "True\n",
      "True\n",
      "False\n"
     ]
    }
   ],
   "source": [
    "print(bool(\"Hello\"))\n",
    "print(bool(''))\n",
    "print(bool(\"\"))\n",
    "print(bool(' '))\n",
    "print(bool('None'))\n",
    "print(bool(None))"
   ]
  },
  {
   "cell_type": "code",
   "execution_count": 36,
   "metadata": {},
   "outputs": [
    {
     "name": "stdout",
     "output_type": "stream",
     "text": [
      "Not Equal\n"
     ]
    }
   ],
   "source": [
    "# In Python, NaN is a special floating-point value returned by certain operations \n",
    "# when one of their results ends in an undefined value. \n",
    "# A subtle feature of NaN values is that two NaN are never equal. \n",
    "\n",
    "if float('NaN') == float('NaN'):\n",
    "    print(\"Equal\")\n",
    "else:\n",
    "    print(\"Not Equal\")"
   ]
  },
  {
   "cell_type": "code",
   "execution_count": 37,
   "metadata": {},
   "outputs": [
    {
     "name": "stdout",
     "output_type": "stream",
     "text": [
      "True\n",
      "nan\n",
      "False\n"
     ]
    }
   ],
   "source": [
    "import numpy as np\n",
    "print(bool(np.nan))\n",
    "print(np.nan)\n",
    "\n",
    "if np.nan == np.nan:\n",
    "    print(True)\n",
    "else:\n",
    "    print(False)"
   ]
  },
  {
   "cell_type": "code",
   "execution_count": 38,
   "metadata": {},
   "outputs": [
    {
     "name": "stdout",
     "output_type": "stream",
     "text": [
      "False\n",
      "False\n",
      "False\n",
      "False\n"
     ]
    }
   ],
   "source": [
    "print(bool(None))\n",
    "print(bool(()))\n",
    "print(bool([]))\n",
    "print(bool({}))"
   ]
  },
  {
   "cell_type": "code",
   "execution_count": null,
   "metadata": {},
   "outputs": [],
   "source": []
  },
  {
   "cell_type": "markdown",
   "metadata": {},
   "source": [
    "## Python Operators\n",
    "\n",
    "In Python the operators are divided in the following groups:\n",
    "\n",
    "1. Arithmetic operators\n",
    "2. Assignment operators\n",
    "3. Comparison operators\n",
    "4. Logical operators\n",
    "5. Identity operators\n",
    "6. Membership operators\n",
    "7. Bitwise operators"
   ]
  },
  {
   "cell_type": "code",
   "execution_count": 39,
   "metadata": {},
   "outputs": [
    {
     "name": "stdout",
     "output_type": "stream",
     "text": [
      "225\n",
      "7\n"
     ]
    }
   ],
   "source": [
    "## Python Arithmetic Operators\n",
    "x = 15 \n",
    "y = 2\n",
    "\n",
    "res_add = x + y\n",
    "res_sub = x - y\n",
    "res_mul = x * y\n",
    "res_div = x / y\n",
    "res_mod = x % y\n",
    "\n",
    "res_floor = x // y # Floor division\n",
    "\n",
    "res_exp = x ** y\n",
    "print(res_exp)\n",
    "print(res_floor)"
   ]
  },
  {
   "cell_type": "code",
   "execution_count": null,
   "metadata": {},
   "outputs": [],
   "source": [
    "# Augmented or compound assignment"
   ]
  },
  {
   "cell_type": "code",
   "execution_count": 40,
   "metadata": {},
   "outputs": [
    {
     "name": "stdout",
     "output_type": "stream",
     "text": [
      "x:  5\n",
      "x + 3:  8\n",
      "x - 3:  5\n",
      "x * 3:  15\n",
      "x / 3:  5.0\n",
      "x ** 3:  125.0\n",
      "x // 3:  41.0\n",
      "x % 3:  2.0\n"
     ]
    }
   ],
   "source": [
    "# Python Assignment Operators\n",
    "x = 5 # x = 5\n",
    "print(\"x: \", x)\n",
    "\n",
    "x += 3 # x = x + 3\n",
    "print(\"x + 3: \", x)\n",
    "x -= 3 # x = x - 3\n",
    "print(\"x - 3: \", x)\n",
    "x *= 3 # x = x * 3\n",
    "print(\"x * 3: \", x)\n",
    "x /= 3 # x = x / 3\n",
    "print(\"x / 3: \", x)\n",
    "x **= 3 # x = x ** 3\n",
    "print(\"x ** 3: \", x)\n",
    "x //= 3 # x = x // 3\n",
    "print(\"x // 3: \", x)\n",
    "x %= 3 # x = x % 3\n",
    "print(\"x % 3: \", x)"
   ]
  },
  {
   "cell_type": "code",
   "execution_count": null,
   "metadata": {},
   "outputs": [],
   "source": []
  },
  {
   "cell_type": "code",
   "execution_count": 41,
   "metadata": {},
   "outputs": [
    {
     "name": "stdout",
     "output_type": "stream",
     "text": [
      "\n",
      "x:  6\n",
      "x & 3:  2\n",
      "\n",
      "x:  7\n",
      "x | 3:  7\n",
      "\n",
      "x:  6\n",
      "x ^ 3:  5\n",
      "\n",
      "x:  6\n",
      "x >> 3:  0\n",
      "\n",
      "x:  6\n",
      "x << 3:  48\n"
     ]
    }
   ],
   "source": [
    "# Python Bitwise assignment\n",
    "x = 6\n",
    "print(\"\\nx: \", x)\n",
    "\n",
    "x &= 3                      # x = x & 3 \n",
    "print(\"x & 3: \", x)\n",
    "\n",
    "x = 6\n",
    "x |= 3                      # x = x | 3\n",
    "print(\"\\nx: \", x)\n",
    "print(\"x | 3: \", x)\n",
    "\n",
    "x = 6\n",
    "print(\"\\nx: \", x)\n",
    "x ^= 3                      # x = x ^ 3\n",
    "print(\"x ^ 3: \", x)         # XOR\n",
    "\n",
    "x = 6\n",
    "print(\"\\nx: \", x)\n",
    "x >>= 3                      # x = x >> 3, Signed right shift\n",
    "print(\"x >> 3: \", x)\n",
    "\n",
    "x = 6\n",
    "print(\"\\nx: \", x)\n",
    "x <<= 3                     # x = x << 3, Zero fill left shift\n",
    "print(\"x << 3: \", x)\n",
    "\n",
    "#x=6 => 00000110\n",
    "#3   => 00000011\n",
    "#x&3 => 00000010 = 2"
   ]
  },
  {
   "cell_type": "code",
   "execution_count": null,
   "metadata": {},
   "outputs": [],
   "source": [
    "# Left and Right cannot be applied on float type.\n",
    "# One  Left Shift:    x = x*2\n",
    "# One Right Shift:    x = int(floor(x/2)) # int is used to convert the data type to int"
   ]
  },
  {
   "cell_type": "code",
   "execution_count": null,
   "metadata": {},
   "outputs": [],
   "source": []
  },
  {
   "cell_type": "code",
   "execution_count": 42,
   "metadata": {},
   "outputs": [
    {
     "name": "stdout",
     "output_type": "stream",
     "text": [
      "\n",
      "x:  0\n",
      "~x:  -1\n"
     ]
    }
   ],
   "source": [
    "x = 0\n",
    "print(\"\\nx: \", x)\n",
    "x = ~x                     # x = ~x => NOT => Inverts all the bits (Returns one’s complement of the number)\n",
    "print(\"~x: \", x)\n",
    "\n",
    "#x=6 => 00000110\n",
    "#~x  => -(00000110 + 1) => -(00000111) => -7"
   ]
  },
  {
   "cell_type": "code",
   "execution_count": 43,
   "metadata": {},
   "outputs": [
    {
     "name": "stdout",
     "output_type": "stream",
     "text": [
      "8\n",
      "8\n"
     ]
    }
   ],
   "source": [
    "import numpy as np\n",
    "x = 17\n",
    "print(x>>1)\n",
    "print(int(np.floor(x/2))) # int is used to convert the data type to int"
   ]
  },
  {
   "cell_type": "code",
   "execution_count": 44,
   "metadata": {},
   "outputs": [
    {
     "name": "stdout",
     "output_type": "stream",
     "text": [
      "5 == 7 False\n",
      "5 != 7 True\n",
      "5 > 7 False\n",
      "5 < 7 True\n",
      "5 >= 7 False\n",
      "5 <= 7 True\n"
     ]
    }
   ],
   "source": [
    "# Python Comparison Operators\n",
    "a = 5\n",
    "b = 7\n",
    "print(a,\"==\",b, a==b)\n",
    "print(a,\"!=\",b, a!=b)\n",
    "print(a,\">\",b, a>b)\n",
    "print(a,\"<\",b, a<b)\n",
    "print(a,\">=\",b, a>=b)\n",
    "print(a,\"<=\",b, a<=b)\n"
   ]
  },
  {
   "cell_type": "code",
   "execution_count": 45,
   "metadata": {},
   "outputs": [
    {
     "name": "stdout",
     "output_type": "stream",
     "text": [
      "True and False = False\n",
      "True or False = True\n",
      "not True = False\n"
     ]
    }
   ],
   "source": [
    "# Python Logical Operators\n",
    "x = True\n",
    "y = False\n",
    "print(x, \"and\", y, \"=\", x and y)\n",
    "print(x, \"or\", y, \"=\", x or y)\n",
    "print(\"not\", x, \"=\", not x) \n",
    "\n",
    "# print(*objects)  \n",
    "# Method with *objects means multiple arguments, \n",
    "# Here print takes multiple arguments, each argument separated by a space. "
   ]
  },
  {
   "cell_type": "code",
   "execution_count": 46,
   "metadata": {},
   "outputs": [
    {
     "name": "stdout",
     "output_type": "stream",
     "text": [
      "True\n",
      "False\n",
      "140716645826640\n",
      "140716645826640\n",
      "15\n"
     ]
    }
   ],
   "source": [
    "# Python Identity Operators (Interning i.e. string interning or int interning)\n",
    "x = \"Python\"\n",
    "y = \"Python\"\n",
    "\n",
    "# Both variable x and y point to same value in Heap\n",
    "print(x is y)          # Returns True if both variables are the same\n",
    "print(x is not y)      # Returns True if both variables are not the same\n",
    "\n",
    "print(id(x))\n",
    "print(id(y))\n",
    "id_v = str(id(y))\n",
    "print(len(id_v))"
   ]
  },
  {
   "cell_type": "code",
   "execution_count": null,
   "metadata": {},
   "outputs": [],
   "source": []
  },
  {
   "cell_type": "code",
   "execution_count": 47,
   "metadata": {},
   "outputs": [
    {
     "name": "stdout",
     "output_type": "stream",
     "text": [
      "True\n",
      "False\n"
     ]
    }
   ],
   "source": [
    "# Python Membership Operators\n",
    "\n",
    "x = [[5,10,15],20]\n",
    "y = [5,10,15]\n",
    "print(y in x)          # Returns True if a sequence with the specified value is present in the object\n",
    "print(y not in x)      # Returns True if a sequence with the specified value is not present in the object\n"
   ]
  },
  {
   "cell_type": "code",
   "execution_count": null,
   "metadata": {},
   "outputs": [],
   "source": []
  },
  {
   "cell_type": "code",
   "execution_count": null,
   "metadata": {},
   "outputs": [],
   "source": []
  },
  {
   "cell_type": "markdown",
   "metadata": {},
   "source": [
    "# Python Lists\n",
    "\n",
    "Four collection data types in the Python:\n",
    "\n",
    "1. List: is a collection which is ordered and changeable. Allows duplicate members\n",
    "2. Tuple: is a collection which is ordered and unchangeable. Allows duplicate members\n",
    "3. Set: is a collection which is unordered and unindexed. No duplicate members\n",
    "4. Dictionary: is a collection which is unordered, changeable and indexed. No duplicate members (Keys are unique not values)\n",
    "\n",
    "When choosing a collection type, it is useful to understand the properties of that type. "
   ]
  },
  {
   "cell_type": "code",
   "execution_count": null,
   "metadata": {},
   "outputs": [],
   "source": [
    "# List\n",
    "my_list = [\"apple\", \"banana\", \"cherry\"]\n",
    "print(my_list)"
   ]
  },
  {
   "cell_type": "code",
   "execution_count": null,
   "metadata": {},
   "outputs": [],
   "source": [
    "# Tuple\n",
    "my_list = (\"apple\", \"banana\", \"cherry\")\n",
    "print(my_list)"
   ]
  },
  {
   "cell_type": "markdown",
   "metadata": {},
   "source": [
    "## Python Tuples\n",
    "A tuple is a collection which is ordered and unchangeable or immutable."
   ]
  },
  {
   "cell_type": "code",
   "execution_count": 50,
   "metadata": {},
   "outputs": [
    {
     "name": "stdout",
     "output_type": "stream",
     "text": [
      "apple\n",
      "12\n",
      "('guava', 'orange', 12)\n"
     ]
    }
   ],
   "source": [
    "mytuple = (\"apple\", \"banana\", \"cherry\", \"guava\", \"orange\", 12, 5.0,\"Ali\")\n",
    "print(mytuple[0])\n",
    "print(mytuple[-3])\n",
    "print(mytuple[3:6])"
   ]
  },
  {
   "cell_type": "code",
   "execution_count": 52,
   "metadata": {},
   "outputs": [
    {
     "name": "stdout",
     "output_type": "stream",
     "text": [
      "apple\n",
      "banana\n",
      "cherry\n",
      "guava\n",
      "orange\n",
      "12\n",
      "5.0\n",
      "Ali\n"
     ]
    }
   ],
   "source": [
    "for x in mytuple:\n",
    "    print(x)"
   ]
  },
  {
   "cell_type": "code",
   "execution_count": 53,
   "metadata": {},
   "outputs": [
    {
     "name": "stdout",
     "output_type": "stream",
     "text": [
      "apple\n",
      "banana\n",
      "cherry\n",
      "guava\n",
      "orange\n",
      "12\n",
      "5.0\n",
      "Ali\n"
     ]
    }
   ],
   "source": [
    "for x in range(len(mytuple)):\n",
    "    print(mytuple[x])"
   ]
  },
  {
   "cell_type": "code",
   "execution_count": 54,
   "metadata": {},
   "outputs": [],
   "source": [
    "# Deleting tuple \n",
    "mytuple = (\"apple\", \"banana\", \"cherry\")\n",
    "del mytuple\n",
    "#print(mytuple)\n"
   ]
  },
  {
   "cell_type": "code",
   "execution_count": 55,
   "metadata": {},
   "outputs": [
    {
     "name": "stdout",
     "output_type": "stream",
     "text": [
      "('apple', 'banana', 'orange', 'guava', 'orange', 'lemon')\n"
     ]
    }
   ],
   "source": [
    "# Combining two tuples\n",
    "mytuple1 = (\"apple\", \"banana\", \"orange\")\n",
    "mytuple2 = (\"guava\", \"orange\", \"lemon\")\n",
    "mytuple3 = mytuple1 + mytuple2 \n",
    "\n",
    "print(mytuple3)"
   ]
  },
  {
   "cell_type": "code",
   "execution_count": 56,
   "metadata": {},
   "outputs": [
    {
     "name": "stdout",
     "output_type": "stream",
     "text": [
      "3\n",
      "2\n"
     ]
    }
   ],
   "source": [
    "# Search specific value and returns the position of first occurrence in a tuple\n",
    "index_num = mytuple3.index('guava')\n",
    "print(index_num)\n",
    "\n",
    "# Count all items with specific value in a tuple \n",
    "count_items = mytuple3.count('orange')\n",
    "print(count_items)\n"
   ]
  },
  {
   "cell_type": "markdown",
   "metadata": {},
   "source": [
    "## Python Sets\n",
    "A set is a collection which is unordered and unindexed.\n",
    "\n",
    "As it is unordered, therefore items cannot be accessed by referring to an index or a key.\n",
    "\n"
   ]
  },
  {
   "cell_type": "code",
   "execution_count": null,
   "metadata": {},
   "outputs": [],
   "source": [
    "myset = {\"apple\", \"banana\", \"cherry\"}\n",
    "myset"
   ]
  },
  {
   "cell_type": "code",
   "execution_count": null,
   "metadata": {},
   "outputs": [],
   "source": []
  },
  {
   "cell_type": "code",
   "execution_count": null,
   "metadata": {},
   "outputs": [],
   "source": [
    "for item in myset:\n",
    "    print(item)\n"
   ]
  },
  {
   "cell_type": "code",
   "execution_count": null,
   "metadata": {},
   "outputs": [],
   "source": [
    "if 'cherry' in myset:\n",
    "    print(\"Yes exist\")"
   ]
  },
  {
   "cell_type": "code",
   "execution_count": null,
   "metadata": {},
   "outputs": [],
   "source": [
    "myset.add('lemon')\n",
    "print(myset)"
   ]
  },
  {
   "cell_type": "code",
   "execution_count": null,
   "metadata": {},
   "outputs": [],
   "source": [
    "#myset.remove('lemon') # Get error if lemon not in set\n",
    "print(myset)\n",
    "\n",
    "myset.discard(\"lemon\") # No error although if lemon not in set\n"
   ]
  },
  {
   "cell_type": "code",
   "execution_count": null,
   "metadata": {},
   "outputs": [],
   "source": [
    "#myset.update({'lemon','guava'}) # set  working\n",
    "#myset.update(['lemon','guava']) # list also working\n",
    "myset.update(('lemon','guava')) # tuple also working\n",
    "myset"
   ]
  },
  {
   "cell_type": "markdown",
   "metadata": {},
   "source": [
    "## Python Dictionaries\n",
    "A dictionary is a key value pair collection which is unordered, mutable and indexed. \n"
   ]
  },
  {
   "cell_type": "code",
   "execution_count": null,
   "metadata": {},
   "outputs": [],
   "source": [
    "mydict = {\n",
    "  \"name\": \"Ali\",\n",
    "  \"age\": 30,\n",
    "  \"address\": \"House#400, Street#12\"\n",
    "}\n",
    "print(mydict)"
   ]
  },
  {
   "cell_type": "code",
   "execution_count": null,
   "metadata": {},
   "outputs": [],
   "source": [
    "name = mydict['name']\n",
    "print(name)"
   ]
  },
  {
   "cell_type": "code",
   "execution_count": null,
   "metadata": {},
   "outputs": [],
   "source": [
    "# You can also used get() method of dictionaly to access value\n",
    "name = mydict.get('name')\n",
    "print(name)"
   ]
  },
  {
   "cell_type": "markdown",
   "metadata": {},
   "source": [
    "## Python Conditions (if), (if and else), (if, elif and else )\n",
    "To define scope of body of the condistion, Python uses indentation (whitespace, preferably 4 white spaces) "
   ]
  },
  {
   "cell_type": "code",
   "execution_count": null,
   "metadata": {},
   "outputs": [],
   "source": [
    "# If statement\n",
    "\n",
    "x = 100\n",
    "y = 300\n",
    "\n",
    "if x < y:\n",
    "    print(\"x is less than y\")"
   ]
  },
  {
   "cell_type": "code",
   "execution_count": null,
   "metadata": {},
   "outputs": [],
   "source": []
  },
  {
   "cell_type": "code",
   "execution_count": null,
   "metadata": {},
   "outputs": [],
   "source": [
    "# If else statement\n",
    "\n",
    "x = 400\n",
    "y = 300\n",
    "\n",
    "if x < y:\n",
    "    print(\"x is less than y\")\n",
    "    \n",
    "else:\n",
    "    print(\"x is not less than y\")\n",
    "    "
   ]
  },
  {
   "cell_type": "code",
   "execution_count": null,
   "metadata": {},
   "outputs": [],
   "source": [
    "# If elif else statement\n",
    "x = 300\n",
    "y = 300\n",
    "\n",
    "if x < y:\n",
    "    print(\"x is less than y\")\n",
    "    \n",
    "elif x > y:\n",
    "    print(\"x is greater than y\")\n",
    "    \n",
    "else:\n",
    "    print(\"Both are equal\")\n",
    "    "
   ]
  },
  {
   "cell_type": "code",
   "execution_count": null,
   "metadata": {},
   "outputs": [],
   "source": [
    "x = 100\n",
    "y = 120\n",
    "if x < y: print(\"x is less than y\")"
   ]
  },
  {
   "cell_type": "code",
   "execution_count": null,
   "metadata": {},
   "outputs": [],
   "source": [
    "# Ternary Operators (Short Hand) for If Else condition\n",
    "# Java and C/C++ Syntax:    max = (n1 > n2) ? n1 : n2;\n",
    "# We can use nested ternary operators, however, your code will be less readable\n",
    "# val = (n1 > n2) ? \"n1 greater\" : (n1 < n2) ? \"n2 greater\" : \"Both Equal\";\n",
    "\n",
    "# Assign ternary result to a variable\n",
    "x = 100\n",
    "y = 100\n",
    "\n",
    "# If - Elif- Else\n",
    "my_val = \"x greater\" if x > y else \"y greater\" if x < y else \"Both are equal\"\n",
    "print(my_val)"
   ]
  },
  {
   "cell_type": "code",
   "execution_count": null,
   "metadata": {},
   "outputs": [],
   "source": [
    "x = 50\n",
    "y = 100\n",
    "\n",
    "# If - Elif- Else\n",
    "print(\"x greater\") if x > y else print(\"y greater\") if x < y else print(\"Both are equal\")"
   ]
  },
  {
   "cell_type": "code",
   "execution_count": null,
   "metadata": {},
   "outputs": [],
   "source": []
  },
  {
   "cell_type": "code",
   "execution_count": null,
   "metadata": {},
   "outputs": [],
   "source": [
    "# Using logical operators in conditions\n",
    "x = 100\n",
    "y = 100\n",
    "\n",
    "if not (x < y) and not (x > y):\n",
    "    print(\"Both are equal\")"
   ]
  },
  {
   "cell_type": "code",
   "execution_count": null,
   "metadata": {},
   "outputs": [],
   "source": []
  },
  {
   "cell_type": "code",
   "execution_count": null,
   "metadata": {},
   "outputs": [],
   "source": [
    "x = 100\n",
    "y = 100\n",
    "if not (x < y or x > y):\n",
    "    print(\"Both are equal\")"
   ]
  },
  {
   "cell_type": "markdown",
   "metadata": {},
   "source": [
    "## Python Loops\n",
    "To define scope of body of the condition, Python uses indentation (whitespace, preferably 4 white spaces) \n",
    "\n",
    "Python has two primitive loops (for and while)\n",
    "\n"
   ]
  },
  {
   "cell_type": "markdown",
   "metadata": {},
   "source": [
    "### For Loop"
   ]
  },
  {
   "cell_type": "code",
   "execution_count": null,
   "metadata": {},
   "outputs": [],
   "source": [
    "fruits = [\"apple\", \"banana\", \"cherry\"]\n",
    "for fruit in fruits:\n",
    "    print(fruit)"
   ]
  },
  {
   "cell_type": "code",
   "execution_count": null,
   "metadata": {},
   "outputs": [],
   "source": [
    "# Loop through string value\n",
    "for x in  \"Pakistan\":\n",
    "    print(x)"
   ]
  },
  {
   "cell_type": "code",
   "execution_count": null,
   "metadata": {},
   "outputs": [],
   "source": [
    "# For loop with range() fuction\n",
    "size = 5\n",
    "for i in range(size):  # in range(5), the loop will stop just before 5, so 5 is exclusive\n",
    "    print(i)\n",
    "    "
   ]
  },
  {
   "cell_type": "code",
   "execution_count": null,
   "metadata": {
    "scrolled": true
   },
   "outputs": [],
   "source": [
    "for i in range(3,12,5):\n",
    "    print(i)"
   ]
  },
  {
   "cell_type": "code",
   "execution_count": null,
   "metadata": {},
   "outputs": [],
   "source": [
    "# Sum integer values within range 100\n",
    "sum = 0\n",
    "for i in range(101): \n",
    "    sum += i\n",
    "print(sum)"
   ]
  },
  {
   "cell_type": "code",
   "execution_count": null,
   "metadata": {},
   "outputs": [],
   "source": [
    "# Sum integer values within range less than 50 (using break command)\n",
    "sum = 0\n",
    "for i in range(101): \n",
    "    if i == 51:\n",
    "        break\n",
    "    sum += i\n",
    "    \n",
    "print(sum)"
   ]
  },
  {
   "cell_type": "code",
   "execution_count": null,
   "metadata": {},
   "outputs": [],
   "source": []
  },
  {
   "cell_type": "code",
   "execution_count": null,
   "metadata": {},
   "outputs": [],
   "source": [
    "# Sum even values within range (using continue command)\n",
    "sum = 0\n",
    "for i in range(101): \n",
    "    if i%2 != 0:\n",
    "        continue\n",
    "    sum += i\n",
    "    \n",
    "print(sum)\n"
   ]
  },
  {
   "cell_type": "code",
   "execution_count": null,
   "metadata": {},
   "outputs": [],
   "source": [
    "# Nested for loop\n",
    "for i in range(5):\n",
    "    row = \"\"\n",
    "    for j in range(6):\n",
    "        row = row + str(j) + \",\"\n",
    "    print(row)"
   ]
  },
  {
   "cell_type": "markdown",
   "metadata": {},
   "source": [
    "### While Loop"
   ]
  },
  {
   "cell_type": "code",
   "execution_count": null,
   "metadata": {},
   "outputs": [],
   "source": [
    "# Sum integer values within range\n",
    "sum = 0\n",
    "i = 1\n",
    "while i <= 100:\n",
    "    sum += i\n",
    "    i += 1\n",
    "print(sum)"
   ]
  },
  {
   "cell_type": "code",
   "execution_count": null,
   "metadata": {},
   "outputs": [],
   "source": [
    "# Sum integer values within range less than 50 (using break command)\n",
    "sum = 0\n",
    "i = 1\n",
    "while i <= 100:\n",
    "    sum += i\n",
    "    i += 1\n",
    "    if i == 51:\n",
    "        break\n",
    "    \n",
    "print(sum)"
   ]
  },
  {
   "cell_type": "code",
   "execution_count": null,
   "metadata": {},
   "outputs": [],
   "source": [
    "# Sum even values within range (using continue command)\n",
    "sum = 0\n",
    "i = 1\n",
    "while i <= 100:\n",
    "\n",
    "    if i%2 != 0:\n",
    "        i += 1\n",
    "        continue\n",
    "        \n",
    "    sum += i\n",
    "    i += 1\n",
    "    \n",
    "print(sum)"
   ]
  },
  {
   "cell_type": "code",
   "execution_count": null,
   "metadata": {},
   "outputs": [],
   "source": [
    "# Nested while loop\n",
    "i = 0\n",
    "while i < 5:\n",
    "    row = \"\"\n",
    "\n",
    "    j = 0\n",
    "    while j < 6:\n",
    "        row = row + str(j) + \",\"\n",
    "        j += 1\n",
    "    print(row)\n",
    "    i += 1"
   ]
  },
  {
   "cell_type": "code",
   "execution_count": null,
   "metadata": {},
   "outputs": [],
   "source": [
    "sum = 0\n",
    "input_value = 0\n",
    "while input_value != 'q':\n",
    "    sum += int(input_value)\n",
    "    print(\"Sum = \", sum)\n",
    "    print(\"Enter New number to add\")\n",
    "    input_value = input()\n",
    "\n",
    "\n",
    "# Note: We cannot use for loop for implementing such logic, since for loops \n",
    "# are typically used for iterating over a known sequence. "
   ]
  },
  {
   "cell_type": "markdown",
   "metadata": {},
   "source": [
    "### Python Functions\n",
    "A function is a block of code which only runs when it is called.\n",
    "\n",
    "You pass parameters to a function and function return data as a result.\n",
    "\n",
    "Function in Python always return something\n",
    "\n",
    "Fuction in python can returns multiple value (In C++ and Java, you cannot directly return multiple values as a built-in feature. However, to return multiple values a collection of objects of class or struct can be used)\n",
    "\n",
    "To return value use keyword 'return' "
   ]
  },
  {
   "cell_type": "code",
   "execution_count": 57,
   "metadata": {},
   "outputs": [
    {
     "name": "stdout",
     "output_type": "stream",
     "text": [
      "This is my first function in Python\n",
      "0.0\n"
     ]
    }
   ],
   "source": [
    "def my_function():\n",
    "    print(\"This is my first function in Python\")\n",
    "    return 0.0\n",
    "\n",
    "ret_value = my_function()\n",
    "print(ret_value)"
   ]
  },
  {
   "cell_type": "code",
   "execution_count": null,
   "metadata": {},
   "outputs": [],
   "source": [
    "def my_function():\n",
    "    print(\"This is my firt function in Python\")\n",
    "    return 66\n",
    "    #return None"
   ]
  },
  {
   "cell_type": "code",
   "execution_count": null,
   "metadata": {},
   "outputs": [],
   "source": [
    "ret_value = my_function()"
   ]
  },
  {
   "cell_type": "code",
   "execution_count": null,
   "metadata": {},
   "outputs": [],
   "source": [
    "print(ret_value)"
   ]
  },
  {
   "cell_type": "code",
   "execution_count": null,
   "metadata": {},
   "outputs": [],
   "source": [
    "# Parametrized method and Number of Arguments\n",
    "\n",
    "# Single argument\n",
    "def my_function1(name):\n",
    "    print(\"Hello,\", name)\n",
    "\n",
    "# Two arguments\n",
    "def my_function2(message, name):\n",
    "    print(message , name)"
   ]
  },
  {
   "cell_type": "code",
   "execution_count": null,
   "metadata": {},
   "outputs": [],
   "source": [
    "my_function1(\"World\")\n",
    "my_function2(\"Hello,\", \"World\")"
   ]
  },
  {
   "cell_type": "code",
   "execution_count": null,
   "metadata": {},
   "outputs": [],
   "source": []
  },
  {
   "cell_type": "code",
   "execution_count": null,
   "metadata": {},
   "outputs": [],
   "source": [
    "# Arbitrary Arguments, *args\n",
    "# Add a * for arbitrary arguments before the parameter name in the function definition .\n",
    "# This way the function will receive arguments as tuples\n",
    "\n",
    "def my_function(*args):\n",
    "    print(type(args))\n",
    "\n",
    "    for i in range(len(args)):\n",
    "        print(args[i])\n",
    "        \n",
    "my_function(\"Ali\", 40, \"Street#123\", \"BCS\")\n"
   ]
  },
  {
   "cell_type": "code",
   "execution_count": null,
   "metadata": {},
   "outputs": [],
   "source": [
    "def sum(*args):\n",
    "    sum = 0\n",
    "    for arg in args:\n",
    "        sum += arg\n",
    "    return sum"
   ]
  },
  {
   "cell_type": "code",
   "execution_count": null,
   "metadata": {},
   "outputs": [],
   "source": [
    "sum_val = sum(1,2,3,4.7,8,8)\n",
    "print(sum_val)"
   ]
  },
  {
   "cell_type": "code",
   "execution_count": null,
   "metadata": {},
   "outputs": [],
   "source": []
  },
  {
   "cell_type": "code",
   "execution_count": null,
   "metadata": {},
   "outputs": [],
   "source": [
    "# Keyword Arguments, You can also pass argument with its name\n",
    "# Here order of the arguments passed is not necessary.\n",
    "\n",
    "def my_function(name, age, address):\n",
    "    print(name, age, address)\n",
    "    \n",
    "\n",
    "my_function(name = \"Ali\", address = \"Street#134\", age = 20)\n"
   ]
  },
  {
   "cell_type": "code",
   "execution_count": null,
   "metadata": {},
   "outputs": [],
   "source": []
  },
  {
   "cell_type": "code",
   "execution_count": null,
   "metadata": {},
   "outputs": [],
   "source": [
    "# Arbitrary Keyword Arguments, **kwargs\n",
    "\n",
    "def my_function(**args):\n",
    "    #print(args['name'])\n",
    "    #print(args['age'])\n",
    "    #print(args['address'])\n",
    "        \n",
    "    for index, arg in args.items():\n",
    "        print(index, arg)\n",
    "    \n",
    "my_function(name=\"Ali\", age=40, address=\"Street#123\")\n"
   ]
  },
  {
   "cell_type": "code",
   "execution_count": null,
   "metadata": {},
   "outputs": [],
   "source": []
  },
  {
   "cell_type": "code",
   "execution_count": null,
   "metadata": {},
   "outputs": [],
   "source": [
    "# Default Parameter Value\n",
    "# If a function with default arguments is called without arguments, it uses the default values\n",
    "# Default argument should not be followed by non-default arguments\n",
    "\n",
    "def my_function(age, name='No Name', address=\"No Address\"):\n",
    "    print(name)\n",
    "    print(age)\n",
    "    print(address)\n",
    "    \n",
    "my_function(40)\n"
   ]
  },
  {
   "cell_type": "code",
   "execution_count": null,
   "metadata": {},
   "outputs": [],
   "source": [
    "# Passing a List as an Argument\n",
    "def my_function(values):\n",
    "    print(values)\n",
    "    \n",
    "my_function(['Ali',30,'Adress']) # Here we are passing a list collection "
   ]
  },
  {
   "cell_type": "code",
   "execution_count": null,
   "metadata": {},
   "outputs": [],
   "source": [
    "# Function definitions cannot be empty, but if you want to have a function definition without content, \n",
    "# Use the pass statement"
   ]
  },
  {
   "cell_type": "code",
   "execution_count": null,
   "metadata": {},
   "outputs": [],
   "source": [
    "def my_function():\n",
    "    pass\n",
    "    \n",
    "my_function()\n"
   ]
  },
  {
   "cell_type": "code",
   "execution_count": null,
   "metadata": {},
   "outputs": [],
   "source": []
  },
  {
   "cell_type": "markdown",
   "metadata": {},
   "source": [
    "## Recursion\n",
    "Recursion is when a statement in a function calls itself repeatedly\n",
    "\n",
    "Recursion is a common programming concept. "
   ]
  },
  {
   "cell_type": "code",
   "execution_count": null,
   "metadata": {},
   "outputs": [],
   "source": [
    "#Calculate Factorial using loops\n",
    "def calculateFact(n):\n",
    "    fact = 1\n",
    "    for i in range(1, n+1):\n",
    "        fact = fact * i;   # fact = fact + fact * i ==> 5! = 4! + 4!*4     \n",
    "    return fact;\n",
    "print(calculateFact(5))\n"
   ]
  },
  {
   "cell_type": "code",
   "execution_count": null,
   "metadata": {},
   "outputs": [],
   "source": [
    "#Calculate Factorial using recursion\n",
    "def calcFact(n):\n",
    "    if n == 1:\n",
    "        return 1\n",
    "    else:\n",
    "        return n*calcFact(n-1)\n",
    "    \n",
    "calcFact(5)"
   ]
  },
  {
   "cell_type": "code",
   "execution_count": null,
   "metadata": {},
   "outputs": [],
   "source": [
    "#Fibonacci Series\n",
    "# 0, 1, 1, 2, 3, 5, 8, 13, 21\n",
    "def fib(n):\n",
    "    if(n <= 1):\n",
    "        return 0\n",
    "    \n",
    "    elif(n == 2):\n",
    "        return 1\n",
    "    \n",
    "    else:\n",
    "        return fib(n-2) + fib(n-1)\n",
    "    \n",
    "n = 1\n",
    "print(\"\\nFibonacci number at position \", n, \" is\", fib(n))"
   ]
  },
  {
   "cell_type": "code",
   "execution_count": null,
   "metadata": {},
   "outputs": [],
   "source": [
    "# Combination\n",
    "def comb(n, r):\n",
    "    if r <= 1:\n",
    "        return n\n",
    "    elif r == n:\n",
    "        return 1\n",
    "   \n",
    "    else:\n",
    "        return comb(n-1, r-1) + comb(n-1, r)\n",
    "    \n",
    "n = 5\n",
    "r = 2\n",
    "print(\"\\nCombiation of \", n, \" C\", r, \" = \", comb(n,r))"
   ]
  },
  {
   "cell_type": "code",
   "execution_count": null,
   "metadata": {},
   "outputs": [],
   "source": [
    "# Permutation\n",
    "def perm(n, r):\n",
    "    if r <= 1:\n",
    "        return n\n",
    "    elif r == n:\n",
    "        return 1\n",
    "   \n",
    "    else:\n",
    "        return perm(n-1, r-1) + perm(n-1, r)\n",
    "    \n",
    "n = 5\n",
    "r = 2\n",
    "print(\"\\nPermutation of \", n, \" C\", r, \" = \", perm(n,r)*calcFact(r))"
   ]
  },
  {
   "cell_type": "code",
   "execution_count": null,
   "metadata": {},
   "outputs": [],
   "source": []
  },
  {
   "cell_type": "code",
   "execution_count": null,
   "metadata": {},
   "outputs": [],
   "source": [
    "#Sum integer nubmer to specific range using recursion\n",
    "def sum(n):\n",
    "    if(n <= 1):\n",
    "        return 1    \n",
    "    else:\n",
    "        return n + sum(n-1)\n",
    "    \n",
    "print(\"\\nSum: \", sum(5))"
   ]
  },
  {
   "cell_type": "markdown",
   "metadata": {},
   "source": [
    "## Python Lambda\n",
    "A lambda function is a small anonymous function\n",
    "\n",
    "A lambda function can take any number of arguments, but can only have one expression"
   ]
  },
  {
   "cell_type": "code",
   "execution_count": null,
   "metadata": {},
   "outputs": [],
   "source": [
    "x = lambda a, b : a + b\n",
    "\n",
    "val = x(5,15)\n",
    "print(val)"
   ]
  },
  {
   "cell_type": "code",
   "execution_count": null,
   "metadata": {},
   "outputs": [],
   "source": [
    "#Creating dynamically double, thrice etc of a number method\n",
    "\n",
    "def myfunc(n):\n",
    "    return lambda a : n * a\n",
    "\n",
    "lamda_func = myfunc(7) # Here the method is created dynamically, which will double/ thrice of every number\n",
    "# lamda_func = lambda a : 3 * a               # Actually, this happens\n",
    "\n",
    "print(lamda_func(9))"
   ]
  },
  {
   "cell_type": "code",
   "execution_count": null,
   "metadata": {},
   "outputs": [],
   "source": [
    "thrice = myfunc(3)"
   ]
  },
  {
   "cell_type": "code",
   "execution_count": null,
   "metadata": {},
   "outputs": [],
   "source": [
    "thrice(12)"
   ]
  },
  {
   "cell_type": "code",
   "execution_count": null,
   "metadata": {},
   "outputs": [],
   "source": [
    "#Equivalent Code for above lambda \n",
    "def myfunc(n):\n",
    "    def myfunc2(a):\n",
    "        return n * a\n",
    "    return myfunc2\n",
    "\n",
    "multiplier_func = myfunc(3)\n",
    "print(multiplier_func(11))\n",
    "\n",
    "# Note: In C++ and Java, you cannot define a function within another function "
   ]
  },
  {
   "cell_type": "code",
   "execution_count": null,
   "metadata": {},
   "outputs": [],
   "source": [
    "#Creating dynamically square, cube etc method\n",
    "\n",
    "def myfunc2(n):\n",
    "    return lambda a : n ** a  # Power function\n",
    "\n",
    "lamda_func2 = myfunc2(5) # Here the method is created dynamically, which will calculate power of every number\n",
    "# lamda_func = lambda a : 3 ** a               # Actually, this happens\n",
    "\n",
    "\n",
    "print(lamda_func2(4))"
   ]
  },
  {
   "cell_type": "markdown",
   "metadata": {},
   "source": [
    "## Python Classes and Objects\n",
    "Python is an object oriented programming language.\n",
    "\n",
    "Almost everything in Python is an object.\n",
    "\n",
    "A Class is a template or blueprint for creating objects.\n"
   ]
  },
  {
   "cell_type": "code",
   "execution_count": null,
   "metadata": {},
   "outputs": [],
   "source": [
    "# __init__() Function\n",
    "class MyClass:\n",
    "    def __init__(self, name, age=0, address='No Address'):\n",
    "        #instance variables\n",
    "        self.name = name \n",
    "        self.age = age\n",
    "        self.address = address\n",
    "    \n",
    "    #self.name = name ## Not allowed \n",
    "\n",
    "my_obj = MyClass('Khan', 43, 'Hayatabad')\n",
    "my_obj.address\n",
    "\n",
    "# You cannot define instance variables outside of methods or the constructor \n",
    "# directly in a Python class"
   ]
  },
  {
   "cell_type": "code",
   "execution_count": null,
   "metadata": {},
   "outputs": [],
   "source": []
  },
  {
   "cell_type": "code",
   "execution_count": null,
   "metadata": {},
   "outputs": [],
   "source": [
    "# Access private attribute with class method\n",
    "\n",
    "class MyClass:\n",
    "    def __init__(self, name, age=0, address='No Address'):\n",
    "        self.name = name            #Public\n",
    "        self._age = age             #Protected\n",
    "        self.__address = address    #Private\n",
    "    \n",
    "    def get_name(self):\n",
    "        return self.name\n",
    "    \n",
    "    def get_age(self):\n",
    "        return self._age - 10\n",
    "\n",
    "    def get_address(self):\n",
    "        return self.__address\n",
    "\n",
    "my_obj = MyClass('Khan', 43, 'Hayatabad')\n",
    "print(my_obj.get_address())\n",
    "print(my_obj._age)"
   ]
  },
  {
   "cell_type": "markdown",
   "metadata": {},
   "source": []
  },
  {
   "cell_type": "code",
   "execution_count": null,
   "metadata": {},
   "outputs": [],
   "source": [
    "# Note: Protected not working as it works in C++ or Java\n",
    "# The single underscore for protected doesn't prevent instance variables from accessing or modifying \n",
    "# the instance from outside class. Although, if your are using the property to modify the attribute, it is \n",
    "# still accessible in Python. Hence, the responsible programmer would avoid/refrain from accessing and modifying \n",
    "# the instance variables prefixed with _ from outside its class. "
   ]
  },
  {
   "cell_type": "code",
   "execution_count": null,
   "metadata": {},
   "outputs": [],
   "source": []
  },
  {
   "cell_type": "code",
   "execution_count": null,
   "metadata": {},
   "outputs": [],
   "source": [
    "# Class Level attributes or static attributes\n",
    "class MyClass:\n",
    "    student_count = 0  # This is a class variable. In C++ or java static is used\n",
    "    \n",
    "    def __init__(self, name, age=0, address='No Address'):\n",
    "        #instance variables\n",
    "        self.name = name \n",
    "        self.age = age\n",
    "        self.address = address\n",
    "        MyClass.student_count += 1\n",
    "\n",
    "    def __del__(self):\n",
    "        MyClass.student_count -= 1"
   ]
  },
  {
   "cell_type": "code",
   "execution_count": null,
   "metadata": {},
   "outputs": [],
   "source": [
    "my_obj1 = MyClass('Bob', 43, 'USA')\n",
    "my_obj2 = MyClass('Alice', 433, 'Canada')\n",
    "print(\"Total Students\", MyClass.student_count)\n",
    "print(\"Total Students\", my_obj1.student_count)\n",
    "print(\"Total Students\", my_obj2.student_count)\n",
    "\n",
    "del(my_obj1)\n",
    "del(my_obj2)\n",
    "print(\"Total Students\", MyClass.student_count)"
   ]
  },
  {
   "cell_type": "code",
   "execution_count": null,
   "metadata": {},
   "outputs": [],
   "source": [
    "class MyClass:\n",
    "    name = 'A quick brown fox jumps over the lazy dog' # Class level attribute/ Static\n",
    "\n",
    "my_obj1 = MyClass()\n",
    "my_obj2 = MyClass()\n",
    "my_obj1.name = \"A quick brown fox jumps over the lazy dog\" # id will be changed\n",
    "\n",
    "print(my_obj1.name)\n",
    "print(my_obj2.name)\n",
    "print(MyClass.name)\n",
    "\n",
    "print(id(my_obj1.name))\n",
    "print(id(my_obj2.name))\n",
    "print(id(MyClass.name))"
   ]
  },
  {
   "cell_type": "code",
   "execution_count": null,
   "metadata": {},
   "outputs": [],
   "source": [
    "# In Java, the built-in toString() method is overridden to provide a custom string representation of an object. \n",
    "# In Python we use __str__ or __repr__ methods for the to provide a custom string representation of an object.\n",
    "\n",
    "class Employee:\n",
    "    def __init__(self, fname, lname):\n",
    "        self.firstname = fname\n",
    "        self._lastname = lname\n",
    "\n",
    "    def __str__(self):\n",
    "        return self.firstname + \" \" + self._lastname\n",
    "    \n",
    "    def __repr__(self): \n",
    "        return 'First Name: {}, Last Name: {}'.format(self.firstname,self._lastname) \n",
    "\n",
    "obj = Employee(\"Muhammad\", 'Khan')\n",
    "print(obj)             # By Default __str__ method is called (Implicitly called)\n",
    "print(obj.__str__())   # Explicity calling __str__ method\n",
    "print(obj.__repr__())  # Explicity calling __repr__ method, \n",
    "                       #__repr__ method is implicilty called, when __str__ method is not there"
   ]
  },
  {
   "cell_type": "code",
   "execution_count": null,
   "metadata": {},
   "outputs": [],
   "source": []
  },
  {
   "cell_type": "code",
   "execution_count": null,
   "metadata": {},
   "outputs": [],
   "source": [
    "# Inheritance \n",
    "class Employee:\n",
    "    def __init__(self, fname, lname):\n",
    "        self.firstname = fname\n",
    "        self._lastname = lname\n",
    "\n",
    "    def __str__(self):\n",
    "        return self.firstname + \" \" + self._lastname\n",
    "    \n",
    "    def __repr__(self): \n",
    "        return 'First Name: {}, Last Name: {}'.format(self.firstname,self._lastname) \n",
    "\n",
    "class Teacher(Employee):\n",
    "    def __init__(self, fname, lname, specialization):\n",
    "        #Employee.__init__(self, fname, lname)\n",
    "        super().__init__(fname, lname)\n",
    "        self.specialization = specialization\n",
    "    \n",
    "    def __str__(self):\n",
    "        return super().__str__() + \" with specialization  \" + self.specialization\n",
    "\n",
    "    def __repr__(self): \n",
    "        return super().__repr__() + ', Specialization: {}'.format(self.specialization) \n",
    "\n",
    "\n",
    "teacher_obj = Teacher(\"Muhammad\", 'Khan', \"Information Security\")\n",
    "print(teacher_obj)             \n",
    "print(teacher_obj.__str__())   \n",
    "print(teacher_obj.__repr__())                                 "
   ]
  },
  {
   "cell_type": "code",
   "execution_count": null,
   "metadata": {},
   "outputs": [],
   "source": []
  },
  {
   "cell_type": "markdown",
   "metadata": {},
   "source": [
    "## Python File Open\n",
    "File handling is an important part of programing language\n",
    "\n",
    "In Python we can create, read, append to, and delete files.\n",
    "\n",
    "Following are the modes of file opening\n",
    "\n",
    "1. \"r\" => Read: Default value. Opens a file for reading, error if the file does not exist\n",
    "\n",
    "2. \"a\" => Append: Opens a file for appending, creates the file if it does not exist.\n",
    "\n",
    "3. \"w\" => Write: Opens a file for writing, creates the file if it does not exist\n",
    "\n",
    "4. \"x\" => Create: Creates the specified file, returns an error if the file exists\n",
    "\n",
    "Two modes of File handling\n",
    "\n",
    "1. \"t\" => Text: Default value\n",
    "\n",
    "2. \"b\" => Binary: Binary mode"
   ]
  },
  {
   "cell_type": "code",
   "execution_count": null,
   "metadata": {},
   "outputs": [],
   "source": [
    "f = open(\"Normal.csv\") # Default text mode\n",
    "#f = open(\"Normal.csv\", \"rt\") # Read in text mode, equivalent to default\n",
    "#f = open(\"Normal.csv\", \"rb\") # Read in binary mode\n",
    "#print(f.read(10))\n",
    "print(f.read())\n"
   ]
  },
  {
   "cell_type": "code",
   "execution_count": null,
   "metadata": {},
   "outputs": [],
   "source": [
    "f = open(\"Normal.csv\")\n",
    "for line in f:\n",
    "    print(line)"
   ]
  },
  {
   "cell_type": "code",
   "execution_count": null,
   "metadata": {},
   "outputs": [],
   "source": []
  },
  {
   "cell_type": "code",
   "execution_count": null,
   "metadata": {},
   "outputs": [],
   "source": [
    "f = open(\"Normal.csv\")\n",
    "line = f.readline()\n",
    "while(line):\n",
    "    print(line)\n",
    "    line = f.readline()"
   ]
  },
  {
   "cell_type": "code",
   "execution_count": null,
   "metadata": {},
   "outputs": [],
   "source": [
    "f = open(\"TestFile.txt\", \"w\")\n",
    "f.write(\"Hello, World!\")\n",
    "f.close()\n",
    "\n",
    "f = open(\"TestFile.txt\", \"r\")\n",
    "print(f.read())\n",
    "f.close()"
   ]
  },
  {
   "cell_type": "code",
   "execution_count": null,
   "metadata": {},
   "outputs": [],
   "source": [
    "f = open(\"TestFile.txt\", \"wb\")\n",
    "text = \"Hello, World!\"\n",
    "text = text.encode('utf-8') # or to convert to bytes use b i.e.  b\"Hello, World!\"\n",
    "f.write(text)\n",
    "f.close()\n",
    "\n",
    "f = open(\"TestFile.txt\", \"rb\")\n",
    "print(f.read())\n",
    "f.close()"
   ]
  },
  {
   "cell_type": "code",
   "execution_count": null,
   "metadata": {},
   "outputs": [],
   "source": []
  },
  {
   "cell_type": "code",
   "execution_count": null,
   "metadata": {},
   "outputs": [],
   "source": [
    "f = open(\"TestFile.txt\", \"a\") # To use \"ab\" for bytes, convert string to bytes  \n",
    "f.write(\"\\nAgain Hello, World!\")\n",
    "f.close()\n",
    "\n",
    "f = open(\"TestFile.txt\", \"r\")\n",
    "print(f.read())\n",
    "f.close()"
   ]
  },
  {
   "cell_type": "code",
   "execution_count": null,
   "metadata": {},
   "outputs": [],
   "source": []
  },
  {
   "cell_type": "code",
   "execution_count": null,
   "metadata": {},
   "outputs": [],
   "source": [
    "# The \"with\" statement clarifies code that previously would use try and finally blocks to ensure that clean-up \n",
    "# code is executed. The with statement will automatically close the file at the end of with block. If an \n",
    "# exception occurs before the end of the block, it will close the file before the exception is caught by an \n",
    "# outer exception handler. If the nested block were to contain a return statement, or a continue or break \n",
    "# statement, the with statement will also ensure automatically closing of the file in these cases.\n",
    "\n",
    "with open(\"TestFile.txt\", \"r\") as f:\n",
    "    print(f.read())\n",
    "\n",
    "#print(f.read())    # It will throw an exception, as file 'f' is already closed at the end of \"with\" block."
   ]
  },
  {
   "cell_type": "code",
   "execution_count": null,
   "metadata": {},
   "outputs": [],
   "source": [
    "#f = open(\"TestFile.txt\", \"x\") # create file if not exist"
   ]
  },
  {
   "cell_type": "code",
   "execution_count": null,
   "metadata": {},
   "outputs": [],
   "source": [
    "# Deleting File\n",
    "import os\n",
    "if os.path.exists(\"TestFile.txt\"):\n",
    "    os.remove(\"TestFile.txt\")\n",
    "    print(\"File removed\")\n",
    "else:\n",
    "    print(\"There is no such file exist\")"
   ]
  },
  {
   "cell_type": "code",
   "execution_count": null,
   "metadata": {},
   "outputs": [],
   "source": []
  },
  {
   "cell_type": "code",
   "execution_count": 58,
   "metadata": {},
   "outputs": [],
   "source": [
    "#Creating Directory\n",
    "\n",
    "import os\n",
    "os.mkdir(\"mydir\")"
   ]
  },
  {
   "cell_type": "code",
   "execution_count": 59,
   "metadata": {},
   "outputs": [
    {
     "name": "stdout",
     "output_type": "stream",
     "text": [
      "Deleted\n"
     ]
    }
   ],
   "source": [
    "#Deleting Directory\n",
    "\n",
    "import os\n",
    "if os.path.exists(\"mydir\"):\n",
    "    os.rmdir(\"mydir\")\n",
    "    print(\"Deleted\")\n",
    "else:\n",
    "    print(\"There is no such directory exist\")"
   ]
  },
  {
   "cell_type": "code",
   "execution_count": null,
   "metadata": {},
   "outputs": [],
   "source": []
  },
  {
   "cell_type": "markdown",
   "metadata": {},
   "source": [
    "## Python Built-in Functions"
   ]
  },
  {
   "cell_type": "code",
   "execution_count": 60,
   "metadata": {},
   "outputs": [
    {
     "name": "stdout",
     "output_type": "stream",
     "text": [
      "<class 'tuple'>\n"
     ]
    }
   ],
   "source": [
    "#The type() function returns the type of the specified object.\n",
    "\n",
    "list_of_fruits = (1, 2, 3, 4)\n",
    "print(type(list_of_fruits))\n"
   ]
  },
  {
   "cell_type": "code",
   "execution_count": 61,
   "metadata": {},
   "outputs": [
    {
     "name": "stdout",
     "output_type": "stream",
     "text": [
      "22\n"
     ]
    }
   ],
   "source": [
    "#The input() function allows taking the input from the user.\n",
    "a = input('Enter Value:')\n",
    "print(a)\n"
   ]
  },
  {
   "cell_type": "code",
   "execution_count": 62,
   "metadata": {},
   "outputs": [
    {
     "name": "stdout",
     "output_type": "stream",
     "text": [
      "['__add__', '__class__', '__contains__', '__delattr__', '__dir__', '__doc__', '__eq__', '__format__', '__ge__', '__getattribute__', '__getitem__', '__getnewargs__', '__getstate__', '__gt__', '__hash__', '__init__', '__init_subclass__', '__iter__', '__le__', '__len__', '__lt__', '__mod__', '__mul__', '__ne__', '__new__', '__reduce__', '__reduce_ex__', '__repr__', '__rmod__', '__rmul__', '__setattr__', '__sizeof__', '__str__', '__subclasshook__', 'capitalize', 'casefold', 'center', 'count', 'encode', 'endswith', 'expandtabs', 'find', 'format', 'format_map', 'index', 'isalnum', 'isalpha', 'isascii', 'isdecimal', 'isdigit', 'isidentifier', 'islower', 'isnumeric', 'isprintable', 'isspace', 'istitle', 'isupper', 'join', 'ljust', 'lower', 'lstrip', 'maketrans', 'partition', 'removeprefix', 'removesuffix', 'replace', 'rfind', 'rindex', 'rjust', 'rpartition', 'rsplit', 'rstrip', 'split', 'splitlines', 'startswith', 'strip', 'swapcase', 'title', 'translate', 'upper', 'zfill']\n"
     ]
    }
   ],
   "source": [
    "#The dir() function returns all the properties and methods of the specified object.\n",
    "print(dir(str))"
   ]
  },
  {
   "cell_type": "code",
   "execution_count": null,
   "metadata": {},
   "outputs": [],
   "source": [
    "#The sorted() function returns a sorted list of the specified iterable object."
   ]
  },
  {
   "cell_type": "code",
   "execution_count": null,
   "metadata": {},
   "outputs": [],
   "source": [
    "tuple = (\"d\", \"e\", \"b\", \"a\", \"c\")\n",
    "print(sorted(tuple))"
   ]
  },
  {
   "cell_type": "code",
   "execution_count": null,
   "metadata": {},
   "outputs": [],
   "source": [
    "tuple = (\"d\", \"e\", \"b\", \"10\", \"9\")\n",
    "print(sorted(tuple))\n",
    "#Note: If a list contains string values as well as numeric values, then sorted method does not work properly."
   ]
  },
  {
   "cell_type": "code",
   "execution_count": null,
   "metadata": {},
   "outputs": [],
   "source": [
    "# The ord() function returns the number representing the Unicode code of a specified character."
   ]
  },
  {
   "cell_type": "code",
   "execution_count": null,
   "metadata": {},
   "outputs": [],
   "source": [
    "a = ord(\"a\")\n",
    "print(a)\n",
    "\n",
    "a = ord(\"A\")\n",
    "print(a)"
   ]
  },
  {
   "cell_type": "code",
   "execution_count": 63,
   "metadata": {},
   "outputs": [
    {
     "name": "stdout",
     "output_type": "stream",
     "text": [
      "['1', '9', 'b', 'd', 'e']\n"
     ]
    }
   ],
   "source": [
    "# You can use this if digits are of single letter\n",
    "# Try yourself\n",
    "tuple = (\"d\", \"e\", \"b\", \"1\", \"9\")\n",
    "\n",
    "def custom_sort(element):\n",
    "    return ord(element)\n",
    "    \n",
    "print(sorted(tuple, key=custom_sort))"
   ]
  },
  {
   "cell_type": "code",
   "execution_count": null,
   "metadata": {},
   "outputs": [],
   "source": [
    "# The help() function is used to display the documentation of modules, functions, classes, keywords, etc.\n",
    "help(sum)\n",
    "#help() Try this one"
   ]
  },
  {
   "cell_type": "code",
   "execution_count": null,
   "metadata": {},
   "outputs": [],
   "source": [
    "# The zip() function takes iterables as input and aggregates them element-wise into a tuple. \n",
    "# The resulting tuples are returned as an iterator. The zip function stops aggregating \n",
    "# when the shortest iterable is exhausted. \n",
    "\n",
    "a = (\"1\", \"2\", \"3\")\n",
    "b = (\"One\", \"Two\", \"Three\")\n",
    "c = (\"A\", \"B\", \"C\")\n",
    "d = (\"I\", \"II\", \"III\")\n",
    "\n",
    "x = zip(a, b, c, d)\n",
    "print(type(x))\n",
    "for xx in x:\n",
    "    print(xx)"
   ]
  },
  {
   "cell_type": "code",
   "execution_count": null,
   "metadata": {},
   "outputs": [],
   "source": [
    "a = (\"1\", \"2\", \"3\")\n",
    "b = (\"I\", \"II\", \"III\")\n",
    "c = (\"One\", \"Two\", \"Three\")\n",
    "\n",
    "x = zip(a, b, c)\n",
    "print(type(x))\n",
    "for xx in x:\n",
    "    print(xx)"
   ]
  },
  {
   "cell_type": "code",
   "execution_count": null,
   "metadata": {},
   "outputs": [],
   "source": [
    "#help(map)\n",
    "print(x)"
   ]
  },
  {
   "cell_type": "code",
   "execution_count": 64,
   "metadata": {},
   "outputs": [
    {
     "name": "stdout",
     "output_type": "stream",
     "text": [
      "[5, 6, 0]\n"
     ]
    }
   ],
   "source": [
    "def myfunc(n):\n",
    "    return len(n)\n",
    "#    return len(n) if n else \"Invalid\"\n",
    "\n",
    "t = ('apple', 'banana', '')\n",
    "x = map(myfunc, t) \n",
    "print(list(x))"
   ]
  },
  {
   "cell_type": "code",
   "execution_count": null,
   "metadata": {},
   "outputs": [],
   "source": []
  },
  {
   "cell_type": "code",
   "execution_count": null,
   "metadata": {},
   "outputs": [],
   "source": [
    "def myfunc(a, b):\n",
    "    return a + \"-\" + b\n",
    "\n",
    "x = map(myfunc, ('apple', 'banana', 'cherries'), ('orange', 'lemon', 'pineapple')) \n",
    "print(list(x))"
   ]
  },
  {
   "cell_type": "code",
   "execution_count": null,
   "metadata": {},
   "outputs": [],
   "source": []
  },
  {
   "cell_type": "code",
   "execution_count": null,
   "metadata": {},
   "outputs": [],
   "source": [
    "marks = [50, 62, 77, 88, 94, 32]\n",
    "\n",
    "def myFunc(x):\n",
    "    if x < 60:\n",
    "        return False\n",
    "    else:\n",
    "        return True"
   ]
  },
  {
   "cell_type": "code",
   "execution_count": null,
   "metadata": {},
   "outputs": [],
   "source": [
    "pass_marks = filter(myFunc, marks)\n",
    "\n",
    "print(\"Passed Students: \")\n",
    "for x in pass_marks:\n",
    "    print(x) "
   ]
  },
  {
   "cell_type": "code",
   "execution_count": 65,
   "metadata": {},
   "outputs": [
    {
     "name": "stdout",
     "output_type": "stream",
     "text": [
      "Key: 1 => Group: [1, 1]\n",
      "Key: 2 => Group: [2]\n",
      "Key: 3 => Group: [3, 3, 3]\n",
      "Key: 4 => Group: [4]\n",
      "Key: 5 => Group: [5, 5]\n"
     ]
    }
   ],
   "source": [
    "from itertools import groupby\n",
    "data = sorted([1, 1, 2, 3, 3, 4, 5, 5, 3]) # The list should be sorted, otherwise, output not as expected\n",
    "\n",
    "def key_func(x):\n",
    "    return x\n",
    "\n",
    "grouped_data = {key: list(group) for key, group in groupby(data, key=key_func)}\n",
    "\n",
    "for key, group in grouped_data.items():\n",
    "    print(f\"Key: {key} => Group: {group}\")"
   ]
  },
  {
   "cell_type": "code",
   "execution_count": null,
   "metadata": {},
   "outputs": [],
   "source": [
    "# Sorting and then Grouping the records by a specific attribute\n",
    "my_list = [{\"name\": \"Alice\", \"course\":\"C++\"}, {\"name\": \"Alice\", \"course\":\"OOP\"}, {\"name\": \"Bob\", \"course\":\"AOA\"}, \n",
    "          {\"name\": \"Bob\", \"course\":\"HCI\"}, {\"name\": \"Alice\", \"course\":\"Java\"}, {\"name\": \"Bob\", \"course\":\"OS\"}]\n",
    "\n",
    "sorted_list = sorted(my_list, key=lambda x: x[\"name\"])\n",
    "\n",
    "grouped_data = {key: list(group) for key, group in groupby(sorted_list, key=lambda x: x[\"name\"])}\n",
    "\n",
    "for key, group in grouped_data.items():\n",
    "    courses = []\n",
    "    for rec in group:\n",
    "        courses.append(rec['course'])\n",
    "    print(f\"{key}: {courses}\")\n",
    "    "
   ]
  },
  {
   "cell_type": "code",
   "execution_count": null,
   "metadata": {},
   "outputs": [],
   "source": []
  },
  {
   "cell_type": "code",
   "execution_count": 67,
   "metadata": {},
   "outputs": [
    {
     "name": "stdout",
     "output_type": "stream",
     "text": [
      "This script runs Directly\n"
     ]
    }
   ],
   "source": [
    "#In this case, the code under the if __name__ == \"__main__\": block will only be executed when \n",
    "# the script is run directly, and not when it's imported as a module in another script.\n",
    "\n",
    "def my_method():\n",
    "    if __name__ == \"__main__\":\n",
    "        # Code here will only run if this script is executed directly\n",
    "        print(\"This script runs Directly\")\n",
    "    else:\n",
    "        print(\"This script runs Indirectly\")\n",
    "my_method()        "
   ]
  },
  {
   "cell_type": "code",
   "execution_count": 68,
   "metadata": {},
   "outputs": [
    {
     "name": "stdout",
     "output_type": "stream",
     "text": [
      "This script runs directly\n",
      "This script runs indirectly\n"
     ]
    }
   ],
   "source": [
    "#calling indirectly\n",
    "%run my_script.py\n",
    "my_method()"
   ]
  },
  {
   "cell_type": "code",
   "execution_count": null,
   "metadata": {},
   "outputs": [],
   "source": [
    "#import my_script\n",
    "#my_script.my_method()\n",
    "\n",
    "## Does not wokring in jupyter-notebook\n",
    "## Go to terminal and run below command and check result\n",
    "## python another_script.py "
   ]
  },
  {
   "cell_type": "code",
   "execution_count": null,
   "metadata": {},
   "outputs": [],
   "source": []
  },
  {
   "cell_type": "code",
   "execution_count": null,
   "metadata": {},
   "outputs": [],
   "source": [
    "# Initial values\n",
    "a = 9\n",
    "b = 10\n",
    "\n",
    "print(\"Before swapping:\")\n",
    "print(\"a =\", a)\n",
    "print(\"b =\", b)\n",
    "\n",
    "# Swapping values without a third variable\n",
    "a = a + b\n",
    "b = a - b\n",
    "a = a - b\n",
    "\n",
    "print(\"After swapping:\")\n",
    "print(\"a =\", a)\n",
    "print(\"b =\", b)\n"
   ]
  },
  {
   "cell_type": "code",
   "execution_count": null,
   "metadata": {},
   "outputs": [],
   "source": []
  }
 ],
 "metadata": {
  "kernelspec": {
   "display_name": "base",
   "language": "python",
   "name": "python3"
  },
  "language_info": {
   "codemirror_mode": {
    "name": "ipython",
    "version": 3
   },
   "file_extension": ".py",
   "mimetype": "text/x-python",
   "name": "python",
   "nbconvert_exporter": "python",
   "pygments_lexer": "ipython3",
   "version": "3.12.4"
  }
 },
 "nbformat": 4,
 "nbformat_minor": 4
}
